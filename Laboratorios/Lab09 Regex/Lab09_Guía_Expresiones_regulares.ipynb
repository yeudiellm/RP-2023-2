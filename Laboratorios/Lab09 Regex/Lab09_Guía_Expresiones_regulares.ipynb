{
  "cells": [
    {
      "cell_type": "markdown",
      "metadata": {
        "id": "o-0EC-EmjYXK"
      },
      "source": [
        "# Expresiones regulares"
      ]
    },
    {
      "cell_type": "code",
      "execution_count": 1,
      "metadata": {
        "id": "4UXwtgwNjYXW"
      },
      "outputs": [],
      "source": [
        "# importando el modulo de regex de python\n",
        "import re"
      ]
    },
    {
      "cell_type": "markdown",
      "metadata": {
        "id": "2TxM02WnjYXa"
      },
      "source": [
        "<p>Para coincidir un patrón, se compila transformando en <b>bytecode</b>, este código luego se ejecuta por un motor escrito en C:</p>\n",
        "<code>pattern = re.compile(r'\\bfoo\\b')</code>\n",
        "\n",
        "<p>Si uno o mas caracteres coiniden con la expresión regular retorna un objeto <em>match</em>: <a href=\"https://docs.python.org/3/library/re.html#match-objects\">Match Objects</a></p>\n",
        "\n",
        "#### Formas de coincidir patrones y ejecutar las operaciones"
      ]
    },
    {
      "cell_type": "code",
      "execution_count": 6,
      "metadata": {
        "colab": {
          "base_uri": "https://localhost:8080/"
        },
        "id": "K1Rliak1jYXc",
        "outputId": "e9ff0f1f-0eb9-4240-de82-a3db5e345cee"
      },
      "outputs": [
        {
          "data": {
            "text/plain": [
              "<re.Match object; span=(0, 3), match='<p>'>"
            ]
          },
          "execution_count": 6,
          "metadata": {},
          "output_type": "execute_result"
        }
      ],
      "source": [
        "# Si queremos volver a usar la expresión regular, podemos usar el siguiente código:\n",
        "pattern = re.compile(\"<p>\")\n",
        "pattern.match(\"<p>Esta etiqueta está en el inicio de este texto</p>\")"
      ]
    },
    {
      "cell_type": "markdown",
      "metadata": {
        "id": "OvcOPUa_jYXf"
      },
      "source": [
        "#### Funciones no compiladas\n",
        "\n",
        "Para cada uno de los ejemplos que vimos (<em>match, search, findall, finditer, split, sub y subn</em>) existe una versión al nivel del módulo que se puede utilizar sin necesidad de compilar primero el patrón de búsqueda; simplemente le pasamos como primer argumento la expresion regular y el resultado será el mismo. La ventaja que tiene la versión compila sobre las funciones no compiladas es que si vamos a utilizar la expresion regular dentro de un <em>bucle</em> nos vamos a ahorrar varias llamadas de funciones y por lo tanto mejorar la performance de nuestro programa."
      ]
    },
    {
      "cell_type": "code",
      "execution_count": 8,
      "metadata": {
        "colab": {
          "base_uri": "https://localhost:8080/"
        },
        "id": "f_wc7RJIjYXg",
        "outputId": "2b881f76-82a9-4f10-899c-d0e02b0ebf7b"
      },
      "outputs": [
        {
          "data": {
            "text/plain": [
              "['<p>']"
            ]
          },
          "execution_count": 8,
          "metadata": {},
          "output_type": "execute_result"
        }
      ],
      "source": [
        "# Por otro lado, podemos realizar directamente la operación en el módulo usando la siguiente línea de código:\n",
        "re.findall(\"<p>\", \"<p>Esta etiqueta está en el inicio de este texto</p>\")"
      ]
    },
    {
      "cell_type": "markdown",
      "metadata": {
        "id": "3Xq5uCAMjYXi"
      },
      "source": [
        "## Buscando coincidencias"
      ]
    },
    {
      "cell_type": "code",
      "execution_count": 16,
      "metadata": {
        "id": "JhB97FBrjYXj"
      },
      "outputs": [],
      "source": [
        "# compilando la regex\n",
        "pattern = re.compile(r'\\bfoo\\b')  # busca la palabra foo"
      ]
    },
    {
      "cell_type": "markdown",
      "metadata": {
        "id": "W06QlHzhjYXk"
      },
      "source": [
        "Ya tenemos el objeto de <em>expresión regular</em> compilado podemos utilizar alguno de los siguientes métodos para buscar coincidencias con nuestro texto.\n",
        "<ul>\n",
        "    <li><b>match():</b> El cual determinada si la regex tiene coincidencias en el comienzo del texto.Retorna <em>None</em> si no hay coincidencia.</li>\n",
        "    <li><b>search():</b> El cual escanea todo el texto buscando cualquier ubicación donde haya una coincidencia.</li>\n",
        "    <li><b>findall():</b> El cual encuentra todos los subtextos donde haya una coincidencia y nos devuelve estas coincidencias como una lista.</li>\n",
        "    <li><b>finditer():</b> El cual es similar al anterior pero en lugar de devolvernos una lista nos devuelve un iterador en el que cada elemento es un <em>MatchObject</em>.</li>\n",
        "</ul>"
      ]
    },
    {
      "cell_type": "code",
      "execution_count": 13,
      "metadata": {
        "id": "KG74M5jtjYXm"
      },
      "outputs": [],
      "source": [
        "# texto de entrada\n",
        "text = \"\"\" bar foo bar\n",
        "foo barbarfoo\n",
        "foofoo foo bar\n",
        "\"\"\""
      ]
    },
    {
      "cell_type": "code",
      "execution_count": 15,
      "metadata": {
        "colab": {
          "base_uri": "https://localhost:8080/"
        },
        "id": "Jx-TQC96jYXn",
        "outputId": "3f0a7654-1c9a-417a-bcd3-94ee37adb9ed"
      },
      "outputs": [
        {
          "name": "stdout",
          "output_type": "stream",
          "text": [
            "['foo', 'foo', 'foo', 'foo', 'foo', 'foo']\n"
          ]
        }
      ],
      "source": [
        "# match nos devuelve None porque no hubo coincidencia al comienzo del texto\n",
        "print(pattern.match(text))"
      ]
    },
    {
      "cell_type": "code",
      "execution_count": 17,
      "metadata": {
        "colab": {
          "base_uri": "https://localhost:8080/"
        },
        "id": "JRwIGv8UjYXo",
        "outputId": "687959de-1ddd-4ad5-9448-144b9719e428"
      },
      "outputs": [
        {
          "data": {
            "text/plain": [
              "<re.Match object; span=(0, 3), match='foo'>"
            ]
          },
          "execution_count": 17,
          "metadata": {},
          "output_type": "execute_result"
        }
      ],
      "source": [
        "# match encuentra una coindencia en el comienzo del texto\n",
        "m = pattern.match('foo bar barbarfoo')\n",
        "m"
      ]
    },
    {
      "cell_type": "code",
      "execution_count": 18,
      "metadata": {
        "colab": {
          "base_uri": "https://localhost:8080/"
        },
        "id": "DIGacnqFjYXo",
        "outputId": "51ddc380-c917-4a76-d7bd-f423b479e719"
      },
      "outputs": [
        {
          "data": {
            "text/plain": [
              "<re.Match object; span=(5, 8), match='foo'>"
            ]
          },
          "execution_count": 18,
          "metadata": {},
          "output_type": "execute_result"
        }
      ],
      "source": [
        "# search nos devuelve la coincidencia en cualquier ubicacion.\n",
        "s = pattern.search(text)\n",
        "s"
      ]
    },
    {
      "cell_type": "code",
      "execution_count": 20,
      "metadata": {
        "colab": {
          "base_uri": "https://localhost:8080/"
        },
        "id": "Xk-to03wjYXp",
        "outputId": "1049aae7-52ca-424f-c97d-1c5d0df0b7fc"
      },
      "outputs": [
        {
          "data": {
            "text/plain": [
              "['foo', 'foo', 'foo']"
            ]
          },
          "execution_count": 20,
          "metadata": {},
          "output_type": "execute_result"
        }
      ],
      "source": [
        "# findall nos devuelve una lista con todas las coincidencias\n",
        "fa = pattern.findall(text)\n",
        "fa"
      ]
    },
    {
      "cell_type": "code",
      "execution_count": 31,
      "metadata": {
        "colab": {
          "base_uri": "https://localhost:8080/"
        },
        "id": "ooQj5CdLjYXp",
        "outputId": "4b5ae755-acd7-41c6-a30c-069defe313ca"
      },
      "outputs": [
        {
          "data": {
            "text/plain": [
              "<callable_iterator at 0x245660353f0>"
            ]
          },
          "execution_count": 31,
          "metadata": {},
          "output_type": "execute_result"
        }
      ],
      "source": [
        "# finditer nos devuelve un iterador\n",
        "fi = pattern.finditer(text)\n",
        "fi"
      ]
    },
    {
      "cell_type": "code",
      "execution_count": 34,
      "metadata": {
        "colab": {
          "base_uri": "https://localhost:8080/"
        },
        "id": "d2xVtfzojYXq",
        "outputId": "9ff32621-aca3-4a6e-c58c-0047b18e7e48"
      },
      "outputs": [
        {
          "data": {
            "text/plain": [
              "<re.Match object; span=(34, 37), match='foo'>"
            ]
          },
          "execution_count": 34,
          "metadata": {},
          "output_type": "execute_result"
        }
      ],
      "source": [
        "# iterando por las distintas coincidencias\n",
        "next(fi)"
      ]
    },
    {
      "cell_type": "code",
      "execution_count": 12,
      "metadata": {
        "colab": {
          "base_uri": "https://localhost:8080/"
        },
        "id": "bIKYnkgGjYXt",
        "outputId": "99f4416a-72a5-4f05-e0ea-7e62ab1b9ebe"
      },
      "outputs": [
        {
          "data": {
            "text/plain": [
              "<re.Match object; span=(13, 16), match='foo'>"
            ]
          },
          "execution_count": 12,
          "metadata": {},
          "output_type": "execute_result"
        }
      ],
      "source": [
        "next(fi) "
      ]
    },
    {
      "cell_type": "markdown",
      "metadata": {
        "id": "UY2KA-0ojYXv"
      },
      "source": [
        "Como podemos ver en estos ejemplos, cuando hay coincidencias, Python nos devuelve un <em>Objeto de coincidencia</em> (salvo por el método <em>findall()</em> que devuelve una lista). Este <em>Objeto de coincidencia</em> también tiene sus propios métodos que nos proporcionan información adicional sobre la coincidencia; éstos métodos son:\n",
        "<ul>\n",
        "    <li><b>group():</b> El cual devuelve el texto que coincide con la expresion regular.</li>\n",
        "    <li><b>start():</b> El cual devuelve la posición inicial de la coincidencia.</li>\n",
        "    <li><b>end():</b> El cual devuelve la posición final de la coincidencia.</li>\n",
        "    <li><b>span():</b> El cual devuelve una tupla con la posición inicial y final de la coincidencia.</li>\n",
        "</ul>"
      ]
    },
    {
      "cell_type": "code",
      "execution_count": 35,
      "metadata": {
        "colab": {
          "base_uri": "https://localhost:8080/"
        },
        "id": "D8z7oWTljYXx",
        "outputId": "68533f7b-4e0c-47e4-e710-c92ba26c5f8d"
      },
      "outputs": [
        {
          "data": {
            "text/plain": [
              "('foo', 0, 3, (0, 3))"
            ]
          },
          "execution_count": 35,
          "metadata": {},
          "output_type": "execute_result"
        }
      ],
      "source": [
        "# Métodos del objeto de coincidencia\n",
        "m.group(), m.start(), m.end(), m.span()"
      ]
    },
    {
      "cell_type": "code",
      "execution_count": 14,
      "metadata": {
        "colab": {
          "base_uri": "https://localhost:8080/"
        },
        "id": "yU3bDGf9jYXz",
        "outputId": "42796e37-f638-4795-b2fe-807dd04001f7"
      },
      "outputs": [
        {
          "data": {
            "text/plain": [
              "('foo', 5, 8, (5, 8))"
            ]
          },
          "execution_count": 14,
          "metadata": {},
          "output_type": "execute_result"
        }
      ],
      "source": [
        "s.group(), s.start(), s.end(), s.span()"
      ]
    },
    {
      "cell_type": "markdown",
      "metadata": {
        "id": "s-WUAFtojYX0"
      },
      "source": [
        "## Modificando el texto de entrada\n",
        "\n",
        "Además de buscar coincidencias de nuestro patrón de búsqueda en un texto, podemos utilizar ese mismo patrón para realizar modificaciones al texto de entrada. Para estos casos podemos utilizar los siguientes métodos:\n",
        "<ul>\n",
        "    <li><b>split():</b> El cual divide el texto en una lista, realizando las divisiones del texto en cada lugar donde se cumple con la expresion regular.</li>\n",
        "    <li><b>sub():</b> El cual encuentra todos los subtextos donde existe una coincidencia con la expresion regular y luego los reemplaza con un nuevo texto.</li>\n",
        "    <li><b>subn():</b> El cual es similar al anterior pero además de devolver el nuevo texto, también devuelve el numero de reemplazos que realizó.</li>\n",
        "</ul>"
      ]
    },
    {
      "cell_type": "code",
      "execution_count": 38,
      "metadata": {
        "id": "P_sYum07jYX1"
      },
      "outputs": [],
      "source": [
        "# texto de entrada\n",
        "becquer = \"\"\"Podrá nublarse el sol eternamente;\n",
        "Podrá secarse en un instante el mar; \n",
        "Podrá romperse el eje de la tierra \n",
        "como un débil cristal. \n",
        "¡todo sucederá! Podrá la muerte \n",
        "cubrirme con su fúnebre crespón; \n",
        "Pero jamás en mí podrá apagarse \n",
        "la llama de tu amor.\"\"\""
      ]
    },
    {
      "cell_type": "code",
      "execution_count": 45,
      "metadata": {
        "id": "xELiq-EsjYX2"
      },
      "outputs": [],
      "source": [
        "# patron para dividir donde no encuentre un caracter alfanumerico\n",
        "pattern = re.compile(r'\\W+')"
      ]
    },
    {
      "cell_type": "code",
      "execution_count": 46,
      "metadata": {
        "colab": {
          "base_uri": "https://localhost:8080/"
        },
        "id": "knL3hquijYX2",
        "outputId": "ecac5b55-a55b-419b-bbbb-caf262cd16a0"
      },
      "outputs": [
        {
          "name": "stdout",
          "output_type": "stream",
          "text": [
            "['Podrá', 'nublarse', 'el', 'sol', 'eternamente', 'Podrá', 'secarse', 'en', 'un', 'instante', 'el', 'mar', 'Podrá', 'romperse', 'el', 'eje', 'de', 'la', 'tierra', 'como', 'un', 'débil', 'cristal', 'todo', 'sucederá', 'Podrá', 'la', 'muerte', 'cubrirme', 'con', 'su', 'fúnebre', 'crespón', 'Pero', 'jamás', 'en', 'mí', 'podrá', 'apagarse', 'la', 'llama', 'de', 'tu', 'amor', '']\n"
          ]
        }
      ],
      "source": [
        "words = pattern.split(becquer)\n",
        "print(words[:50])  # 10 primeras palabras"
      ]
    },
    {
      "cell_type": "code",
      "execution_count": 44,
      "metadata": {
        "colab": {
          "base_uri": "https://localhost:8080/"
        },
        "id": "GbL8mp1jjYX3",
        "outputId": "4c10120a-73b8-47c0-8a68-acf8ff9633ab"
      },
      "outputs": [
        {
          "data": {
            "text/plain": [
              "['Podrá nublarse el sol eternamente; ',\n",
              " 'Podrá secarse en un instante el mar; ',\n",
              " 'Podrá romperse el eje de la tierra ',\n",
              " 'como un débil cristal. ',\n",
              " '¡todo sucederá! Podrá la muerte ',\n",
              " 'cubrirme con su fúnebre crespón; ',\n",
              " 'Pero jamás en mí podrá apagarse ',\n",
              " 'la llama de tu amor.']"
            ]
          },
          "execution_count": 44,
          "metadata": {},
          "output_type": "execute_result"
        }
      ],
      "source": [
        "# Utilizando la version no compilada de split.\n",
        "re.split(r'\\n', becquer)  # Dividiendo por linea."
      ]
    },
    {
      "cell_type": "code",
      "execution_count": 52,
      "metadata": {
        "colab": {
          "base_uri": "https://localhost:8080/"
        },
        "id": "jA6pKSVpjYX4",
        "outputId": "00111662-44da-4d68-e5b5-c17e950b2230"
      },
      "outputs": [
        {
          "data": {
            "text/plain": [
              "['Podrá',\n",
              " 'nublarse',\n",
              " 'el',\n",
              " 'sol',\n",
              " 'eternamente',\n",
              " 'Podrá secarse en un instante el mar; \\nPodrá romperse el eje de la tierra \\ncomo un débil cristal. \\n¡todo sucederá! Podrá la muerte \\ncubrirme con su fúnebre crespón; \\nPero jamás en mí podrá apagarse \\nla llama de tu amor.']"
            ]
          },
          "execution_count": 52,
          "metadata": {},
          "output_type": "execute_result"
        }
      ],
      "source": [
        "# Utilizando el tope de divisiones\n",
        "pattern.split(becquer, 5)"
      ]
    },
    {
      "cell_type": "code",
      "execution_count": 55,
      "metadata": {
        "colab": {
          "base_uri": "https://localhost:8080/"
        },
        "id": "_dueVe9OjYX5",
        "outputId": "19950834-0fac-4d81-dcba-06c246ca85e6"
      },
      "outputs": [
        {
          "name": "stdout",
          "output_type": "stream",
          "text": [
            "Puede nublarse el sol eternamente; \n",
            "Puede secarse en un instante el mar; \n",
            "Puede romperse el eje de la tierra \n",
            "como un débil cristal. \n",
            "¡todo sucederá! Puede la muerte \n",
            "cubrirme con su fúnebre crespón; \n",
            "Pero jamás en mí Puede apagarse \n",
            "la llama de tu amor.\n"
          ]
        }
      ],
      "source": [
        "# Cambiando \"Podrá\" o \"podrá\" por \"Puede\"\n",
        "podra = re.compile(r'\\b(P|p)odrá\\b') #Podrá o podrá \n",
        "puede = podra.sub(\"Puede\", becquer)\n",
        "print(puede)"
      ]
    },
    {
      "cell_type": "code",
      "execution_count": 21,
      "metadata": {
        "colab": {
          "base_uri": "https://localhost:8080/"
        },
        "id": "6N-RFP0QjYX5",
        "outputId": "6593517a-1a2d-41bd-9a4d-bf7a26b0f5bf"
      },
      "outputs": [
        {
          "name": "stdout",
          "output_type": "stream",
          "text": [
            "Puede nublarse el sol eternamente; \n",
            "Puede secarse en un instante el mar; \n",
            "Podrá romperse el eje de la tierra \n",
            "como un débil cristal. \n",
            "¡todo sucederá! Podrá la muerte \n",
            "cubrirme con su fúnebre crespón; \n",
            "Pero jamás en mí podrá apagarse \n",
            "la llama de tu amor.\n"
          ]
        }
      ],
      "source": [
        "# Limitando el número de reemplazos\n",
        "puede = podra.sub(\"Puede\", becquer, 2)\n",
        "print(puede)"
      ]
    },
    {
      "cell_type": "code",
      "execution_count": 22,
      "metadata": {
        "colab": {
          "base_uri": "https://localhost:8080/"
        },
        "id": "T5oZvarsjYX6",
        "outputId": "3270e2d2-8344-40ab-b0c9-2cd8397d5bee"
      },
      "outputs": [
        {
          "data": {
            "text/plain": [
              "('Puede nublarse el sol eternamente; \\nPuede secarse en un instante el mar; \\nPuede romperse el eje de la tierra \\ncomo un débil cristal. \\n¡todo sucederá! Puede la muerte \\ncubrirme con su fúnebre crespón; \\nPero jamás en mí Puede apagarse \\nla llama de tu amor.',\n",
              " 5)"
            ]
          },
          "execution_count": 22,
          "metadata": {},
          "output_type": "execute_result"
        }
      ],
      "source": [
        "# Utilizando la version no compilada de subn\n",
        "re.subn(r'\\b(P|p)odrá\\b', \"Puede\", becquer)  # se realizaron 5 reemplazos"
      ]
    },
    {
      "cell_type": "markdown",
      "metadata": {
        "id": "-x3y6PRCjYX7"
      },
      "source": [
        "## Banderas de compilación\n",
        "\n",
        "Las banderas de compilación permiten modificar algunos aspectos de cómo funcionan las expresiones regulares. Todas ellas están disponibles en el módulo <code>re</code> bajo dos nombres, un nombre largo como IGNORECASE y una forma abreviada de una sola letra como I. Múltiples banderas pueden ser especificadas utilizando el operador \"<code>|</code>\" OR; Por ejemplo, <code>re.I | RE.M</code> establece las banderas de E y M.\n",
        "\n",
        "<p>Algunas de las banderas de compilación que podemos encontrar son:</p>\n",
        "<ul>\n",
        "    <li><b>IGNORECASE, I:</b> Para realizar búsquedas sin tener en cuenta las minúsculas o mayúsculas.</li>\n",
        "    <li><b>VERBOSE, X:</b> Que habilita la modo verborrágico, el cual permite organizar el patrón de búsqueda de una forma que sea más sencilla de entender y leer.</li>\n",
        "    <li><b>ASCII, A:</b> Que hace que las <a href=\"https://docs.microsoft.com/en-us/cpp/c-language/escape-sequences?redirectedfrom=MSDN&view=msvc-160\">secuencias de escape</a> \\w, \\b, \\s and \\d funciones para coincidencias con los caracteres ASCII.</li>\n",
        "    <li><b>DOTALL, S:</b> La cual hace que el metacaracter . funcione para cualquier caracter, incluyendo el las líneas nuevas.</li>\n",
        "    <li><b>LOCALE, L:</b> Esta opción hace que <code>\\w, \\W, \\b, \\B, \\s, y \\S</code> dependientes de la localización actual.</li>\n",
        "    <li><b>MULTILINE, M:</b> Que habilita la coincidencia en múltiples líneas, afectando el funcionamiento de los metacaracteres <code>^</code> and <code>$</code>.</li>\n",
        "</ul>"
      ]
    },
    {
      "cell_type": "code",
      "execution_count": 23,
      "metadata": {
        "colab": {
          "base_uri": "https://localhost:8080/"
        },
        "id": "hQ2e-VLojYX7",
        "outputId": "2ae6e6d7-25e8-42d1-f313-850098e96026"
      },
      "outputs": [
        {
          "name": "stdout",
          "output_type": "stream",
          "text": [
            "Puede nublarse el sol eternamente; \n",
            "Puede secarse en un instante el mar; \n",
            "Puede romperse el eje de la tierra \n",
            "como un débil cristal. \n",
            "¡todo sucederá! Puede la muerte \n",
            "cubrirme con su fúnebre crespón; \n",
            "Pero jamás en mí Puede apagarse \n",
            "la llama de tu amor.\n"
          ]
        }
      ],
      "source": [
        "# Ejemplo de IGNORECASE\n",
        "# Cambiando \"Podrá\" o \"podrá\" por \"Puede\"\n",
        "podra = re.compile(r'podrá\\b', re.I)  # el patrón se vuelve más sencillo\n",
        "puede = podra.sub(\"Puede\", becquer)\n",
        "print(puede)"
      ]
    },
    {
      "cell_type": "code",
      "execution_count": 24,
      "metadata": {
        "id": "0xOXdd3WjYX8"
      },
      "outputs": [],
      "source": [
        "# Ejemplo de VERBOSE\n",
        "mail = re.compile(r\"\"\"\n",
        "\\b             # comienzo de delimitador de palabra\n",
        "[\\w.%+-]       # usuario: Cualquier caracter alfanumerico mas los signos (.%+-)\n",
        "+@             # seguido de @\n",
        "[\\w.-]         # dominio: Cualquier caracter alfanumerico mas los signos (.-)\n",
        "+\\.            # seguido de .\n",
        "[a-zA-Z]{2,6}  # dominio de alto nivel: 2 a 6 letras en minúsculas o mayúsculas.\n",
        "\\b             # fin de delimitador de palabra\n",
        "\"\"\", re.X)"
      ]
    },
    {
      "cell_type": "code",
      "execution_count": 25,
      "metadata": {
        "id": "h3BQ5AUZjYX9"
      },
      "outputs": [],
      "source": [
        "mails = \"\"\"raul.lopez@relopezbriega.com, Raul Lopez Briega,\n",
        "foo bar, relopezbriega@relopezbriega.com.ar, raul@github.io, \n",
        "https://relopezbriega.com.ar, https://relopezbriega.github.io, \n",
        "python@python, river@riverplate.com.ar, pythonAR@python.pythonAR\n",
        "\"\"\""
      ]
    },
    {
      "cell_type": "code",
      "execution_count": 26,
      "metadata": {
        "colab": {
          "base_uri": "https://localhost:8080/"
        },
        "id": "nQxMAnMrjYX9",
        "outputId": "b7e438b6-823d-4467-9be4-4554b214fab9"
      },
      "outputs": [
        {
          "data": {
            "text/plain": [
              "['raul.lopez@relopezbriega.com',\n",
              " 'relopezbriega@relopezbriega.com.ar',\n",
              " 'raul@github.io',\n",
              " 'river@riverplate.com.ar']"
            ]
          },
          "execution_count": 26,
          "metadata": {},
          "output_type": "execute_result"
        }
      ],
      "source": [
        "# filtrando los mails con estructura válida\n",
        "mail.findall(mails)\n",
        "\n",
        "# Como podemos ver en este último ejemplo, la opción VERBOSE puede ser muy util para que  \n",
        "# cualquier persona que lea nuestra expresion regular pueda entenderla más fácilmente."
      ]
    },
    {
      "cell_type": "markdown",
      "metadata": {
        "id": "9Wp95rXkjYX-"
      },
      "source": [
        "### Extras: Nombrando los grupos\n",
        "\n",
        "Otra de las funciones interesantes que nos ofrece el módulo <a href=\"https://docs.python.org/3/library/re.html\">re</a> de Python; es la posibilidad de ponerle nombres a los grupos de nuestras expresiones regulares. Así por ejemplo, en lugar de acceder a los grupos por sus índices, como en este caso..."
      ]
    },
    {
      "cell_type": "code",
      "execution_count": 27,
      "metadata": {
        "colab": {
          "base_uri": "https://localhost:8080/"
        },
        "id": "atnuyhr_jYX_",
        "outputId": "38c02ceb-99e9-4052-e3e4-9bd832152fe7"
      },
      "outputs": [
        {
          "data": {
            "text/plain": [
              "(<re.Match object; span=(0, 10), match='Raul Lopez'>, 'Raul Lopez')"
            ]
          },
          "execution_count": 27,
          "metadata": {},
          "output_type": "execute_result"
        }
      ],
      "source": [
        "# Accediendo a los grupos por sus indices\n",
        "pattern = re.compile(r\"(\\w+) (\\w+)\")\n",
        "s = pattern.search(\"Raul Lopez\")\n",
        "s, s.group()"
      ]
    },
    {
      "cell_type": "code",
      "execution_count": 28,
      "metadata": {
        "colab": {
          "base_uri": "https://localhost:8080/",
          "height": 36
        },
        "id": "ML7PkDfCjYX_",
        "outputId": "ddd82b89-9906-4ccc-ec75-a000215bd65a"
      },
      "outputs": [
        {
          "data": {
            "application/vnd.google.colaboratory.intrinsic+json": {
              "type": "string"
            },
            "text/plain": [
              "'Raul'"
            ]
          },
          "execution_count": 28,
          "metadata": {},
          "output_type": "execute_result"
        }
      ],
      "source": [
        "# grupo 1\n",
        "s.group(1)"
      ]
    },
    {
      "cell_type": "code",
      "execution_count": 29,
      "metadata": {
        "colab": {
          "base_uri": "https://localhost:8080/",
          "height": 36
        },
        "id": "1wFBTI48jYYA",
        "outputId": "71c8a23b-809e-48bf-d589-af4eb85ff5bc"
      },
      "outputs": [
        {
          "data": {
            "application/vnd.google.colaboratory.intrinsic+json": {
              "type": "string"
            },
            "text/plain": [
              "'Lopez'"
            ]
          },
          "execution_count": 29,
          "metadata": {},
          "output_type": "execute_result"
        }
      ],
      "source": [
        "# grupo 2\n",
        "s.group(2)"
      ]
    },
    {
      "cell_type": "markdown",
      "metadata": {
        "id": "JkCTK8n0jYYB"
      },
      "source": [
        "Podemos utilizar la sintaxis especial <code>(?P< nombre >patron)</code> que nos ofrece Python para nombrar estos grupos y que sea más fácil identificarlos."
      ]
    },
    {
      "cell_type": "code",
      "execution_count": 30,
      "metadata": {
        "id": "f4neZOYsjYYC"
      },
      "outputs": [],
      "source": [
        "# Accediendo a los grupos por nombres\n",
        "pattern = re.compile(r\"(?P<nombre>\\w+) (?P<apellido>\\w+)\")\n",
        "s = pattern.search(\"Raúl López\")"
      ]
    },
    {
      "cell_type": "code",
      "execution_count": 31,
      "metadata": {
        "colab": {
          "base_uri": "https://localhost:8080/",
          "height": 36
        },
        "id": "LyH15P6LjYYD",
        "outputId": "bc1ff670-a275-4c58-ca9b-6c5989dce2d5"
      },
      "outputs": [
        {
          "data": {
            "application/vnd.google.colaboratory.intrinsic+json": {
              "type": "string"
            },
            "text/plain": [
              "'Raúl'"
            ]
          },
          "execution_count": 31,
          "metadata": {},
          "output_type": "execute_result"
        }
      ],
      "source": [
        "# grupo nombre\n",
        "s.group(\"nombre\")"
      ]
    },
    {
      "cell_type": "code",
      "execution_count": 32,
      "metadata": {
        "colab": {
          "base_uri": "https://localhost:8080/",
          "height": 36
        },
        "id": "2rNf5MsijYYD",
        "outputId": "e23bf194-e8f3-4d99-8a09-90ca6e4b28c1"
      },
      "outputs": [
        {
          "data": {
            "application/vnd.google.colaboratory.intrinsic+json": {
              "type": "string"
            },
            "text/plain": [
              "'López'"
            ]
          },
          "execution_count": 32,
          "metadata": {},
          "output_type": "execute_result"
        }
      ],
      "source": [
        "# grupo apellido\n",
        "s.group(\"apellido\")"
      ]
    },
    {
      "cell_type": "markdown",
      "metadata": {
        "id": "3sGnG-F2jYYE"
      },
      "source": [
        "## Ejemplos de expresiones regulares\n",
        "\n",
        "### Validando mails\n",
        "\n",
        "<p>Para validar que un mail tenga la estructura correcta, podemos utilizar la siguiente expresion regular:</p>\n",
        "\n",
        "<b>regex:</b> <code>\\b[\\w.%+-]+@[\\w.-]+\\.[a-zA-Z]{2,6}\\b</code>\n",
        "\n",
        "<p>Este es el patrón que utilizamos en el ejemplo de la opción VERBOSE.</p>"
      ]
    },
    {
      "cell_type": "markdown",
      "metadata": {
        "id": "ssmfyADdjYYF"
      },
      "source": [
        "### Validando una URL\n",
        "\n",
        "Para validar que una URL tenga una estructura correcta, podemos utilizar esta expresion regular:\n",
        "\n",
        "<b>regex:</b> <code>^(https?:\\/\\/)?([\\da-z\\.-]+)\\.([a-z\\.]{2,6})([\\/\\w \\.-]*)*\\/?$</code>"
      ]
    },
    {
      "cell_type": "code",
      "execution_count": 33,
      "metadata": {
        "colab": {
          "base_uri": "https://localhost:8080/"
        },
        "id": "IIFpDv4JjYYF",
        "outputId": "a131fa02-2303-4062-ed61-e95a837ae5bd"
      },
      "outputs": [
        {
          "data": {
            "text/plain": [
              "<re.Match object; span=(0, 28), match='https://relopezbriega.com.ar'>"
            ]
          },
          "execution_count": 33,
          "metadata": {},
          "output_type": "execute_result"
        }
      ],
      "source": [
        "# Validando una URL\n",
        "url = re.compile(r\"^(https?:\\/\\/)?([\\da-z\\.-]+)\\.([a-z\\.]{2,6})([\\/\\w \\.-]*)*\\/?$\")\n",
        "\n",
        "# vemos que https://relopezbriega.com.ar lo acepta como una url válida.\n",
        "url.search(\"https://relopezbriega.com.ar\")"
      ]
    },
    {
      "cell_type": "code",
      "execution_count": 34,
      "metadata": {
        "colab": {
          "base_uri": "https://localhost:8080/"
        },
        "id": "8S9QI0wHjYYG",
        "outputId": "6ef69778-6dfc-449c-8840-650e94ea72e6"
      },
      "outputs": [
        {
          "name": "stdout",
          "output_type": "stream",
          "text": [
            "None\n"
          ]
        }
      ],
      "source": [
        "# pero https://google.com/un/archivo!.html no la acepta por el carcter !\n",
        "print(url.search(\"https://google.com/un/archivo!.html\"))"
      ]
    },
    {
      "cell_type": "markdown",
      "metadata": {
        "id": "s7t-PhD8jYYH"
      },
      "source": [
        "### Validando una dirección IP\n",
        "\n",
        "Para validar que una dirección IP tenga una estructura correcta, podemos utilizar esta expresión regular:\n",
        "\n",
        "<b>regex:</b> <code>^(?:(?:25[0-5]|2[0-4][0-9]|[01]?[0-9][0-9]?)\\.){3}(?:25[0-5]|2[0-4][0-9]|[01]?[0-9][0-9]?)$</code>"
      ]
    },
    {
      "cell_type": "code",
      "execution_count": 35,
      "metadata": {
        "colab": {
          "base_uri": "https://localhost:8080/"
        },
        "id": "m2gh18fZjYYH",
        "outputId": "32b1f360-3368-4df0-b47c-d37d2d31e71a"
      },
      "outputs": [
        {
          "data": {
            "text/plain": [
              "<re.Match object; span=(0, 13), match='73.60.124.136'>"
            ]
          },
          "execution_count": 35,
          "metadata": {},
          "output_type": "execute_result"
        }
      ],
      "source": [
        "# Validando una dirección IP\n",
        "patron = ('^(?:(?:25[0-5]|2[0-4][0-9]|'\n",
        "          '[01]?[0-9][0-9]?)\\.){3}'\n",
        "          '(?:25[0-5]|2[0-4][0-9]|[01]?[0-9][0-9]?)$')\n",
        "\n",
        "ip = re.compile(patron)\n",
        "\n",
        "# la ip 73.60.124.136 es valida\n",
        "ip.search(\"73.60.124.136\")"
      ]
    },
    {
      "cell_type": "code",
      "execution_count": 36,
      "metadata": {
        "colab": {
          "base_uri": "https://localhost:8080/"
        },
        "id": "qr8dIXV7jYYI",
        "outputId": "0769c3f1-3e7f-45f9-e577-992912733472"
      },
      "outputs": [
        {
          "name": "stdout",
          "output_type": "stream",
          "text": [
            "None\n"
          ]
        }
      ],
      "source": [
        "# pero la ip 256.60.124.136 no es valida\n",
        "print(ip.search(\"256.60.124.136\"))"
      ]
    },
    {
      "cell_type": "markdown",
      "metadata": {
        "id": "8I3TWdUqjYYI"
      },
      "source": [
        "### Validando una fecha\n",
        "\n",
        "Para validar que una fecha tenga una estructura dd/mm/yyyy, podemos utilizar esta expresión regular:\n",
        "\n",
        "<b>regex:</b> <code>^(0?[1-9]|[12][0-9]|3[01])/(0?[1-9]|1[012])/((19|20)\\d\\d)$</code>"
      ]
    },
    {
      "cell_type": "code",
      "execution_count": 37,
      "metadata": {
        "colab": {
          "base_uri": "https://localhost:8080/"
        },
        "id": "s50V53tkjYYJ",
        "outputId": "59ef60b8-6473-41ad-e04f-6db8c1f87986"
      },
      "outputs": [
        {
          "data": {
            "text/plain": [
              "<re.Match object; span=(0, 10), match='13/02/1982'>"
            ]
          },
          "execution_count": 37,
          "metadata": {},
          "output_type": "execute_result"
        }
      ],
      "source": [
        "# Validando una fecha\n",
        "p1_fecha = re.compile(r'^(0?[1-9]|[12][0-9]|3[01])/(0?[1-9]|1[012])/((19|20)\\d\\d)$')\n",
        "\n",
        "# validando 13/02/1982\n",
        "p1_fecha.search(\"13/02/1982\")"
      ]
    },
    {
      "cell_type": "code",
      "execution_count": 38,
      "metadata": {
        "colab": {
          "base_uri": "https://localhost:8080/"
        },
        "id": "6zcTIPTujYYJ",
        "outputId": "f6473bee-c709-4374-c966-f3a8b10217bf"
      },
      "outputs": [
        {
          "name": "stdout",
          "output_type": "stream",
          "text": [
            "None\n"
          ]
        }
      ],
      "source": [
        "# no valida 13-02-1982\n",
        "print(p1_fecha.search(\"13-02-1982\"))"
      ]
    },
    {
      "cell_type": "code",
      "execution_count": 39,
      "metadata": {
        "colab": {
          "base_uri": "https://localhost:8080/"
        },
        "id": "S4wMNF77jYYK",
        "outputId": "25acc8f9-a168-41d7-8b44-79b9a8cef6a4"
      },
      "outputs": [
        {
          "name": "stdout",
          "output_type": "stream",
          "text": [
            "None\n"
          ]
        }
      ],
      "source": [
        "# no valida 32/12/2015\n",
        "print(p1_fecha.search(\"32/12/2015\"))"
      ]
    },
    {
      "cell_type": "code",
      "execution_count": 40,
      "metadata": {
        "colab": {
          "base_uri": "https://localhost:8080/"
        },
        "id": "GTCFBWmnjYYK",
        "outputId": "5efc226f-b9af-4be9-ef6e-5f6c5929ea0d"
      },
      "outputs": [
        {
          "name": "stdout",
          "output_type": "stream",
          "text": [
            "None\n"
          ]
        }
      ],
      "source": [
        "# no valida 30/14/2015\n",
        "print(p1_fecha.search(\"30/14/2015\"))"
      ]
    },
    {
      "cell_type": "markdown",
      "metadata": {
        "id": "YsMR_0vzjYYL"
      },
      "source": [
        "## Caso de estudio: Expresiones regulares para fechas\n",
        "#### Variaciones de fechas para 23 de Octubre de 2002"
      ]
    },
    {
      "cell_type": "code",
      "execution_count": 41,
      "metadata": {
        "colab": {
          "base_uri": "https://localhost:8080/"
        },
        "id": "7dAvOxAkjYYL",
        "outputId": "449096cf-dfd0-40c9-fbea-cf79f6be3ebd"
      },
      "outputs": [
        {
          "name": "stdout",
          "output_type": "stream",
          "text": [
            "23-10-002\n",
            "23-10-2002\n",
            "23/10/2002\n",
            "23/10/02\n",
            "10/23/2002\n",
            "23 Oct 2002\n",
            "23 de Octubre de 2002\n",
            "Oct 23, 2002\n",
            "Octubre 23, 2002\n"
          ]
        }
      ],
      "source": [
        "dateStr = '23-10-002\\n23-10-2002\\n23/10/2002\\n23/10/02\\n10/23/2002\\n23 Oct 2002\\n23 de Octubre de 2002\\nOct 23, \\\n",
        "2002\\nOctubre 23, 2002'\n",
        "print(dateStr)"
      ]
    },
    {
      "cell_type": "markdown",
      "metadata": {
        "id": "si80TJXSjYYM"
      },
      "source": [
        "1. A partir del patrón anterior, verificar si cada una de las fechas dadas cumplen o no con el mismo"
      ]
    },
    {
      "cell_type": "code",
      "execution_count": 42,
      "metadata": {
        "colab": {
          "base_uri": "https://localhost:8080/"
        },
        "id": "4-Wh-cBtjYYM",
        "outputId": "8e32c2d4-6277-46ae-8c47-969f26ef9503"
      },
      "outputs": [
        {
          "name": "stdout",
          "output_type": "stream",
          "text": [
            "None\n",
            "None\n",
            "<re.Match object; span=(0, 10), match='23/10/2002'>\n",
            "None\n",
            "None\n",
            "None\n",
            "None\n",
            "None\n",
            "None\n"
          ]
        }
      ],
      "source": [
        "for ds in re.split(r'\\n', dateStr):\n",
        "    print(p1_fecha.search(ds))"
      ]
    },
    {
      "cell_type": "markdown",
      "metadata": {
        "id": "Yj7H30zDjYYN"
      },
      "source": [
        "2. Realice una expresión regular que extraiga las fechas con formatos numéricos:\n",
        "<p> 23-10-002 23-10-2002 23/10/2002 23/10/02 10/23/2002</p>"
      ]
    },
    {
      "cell_type": "code",
      "execution_count": 43,
      "metadata": {
        "colab": {
          "base_uri": "https://localhost:8080/"
        },
        "id": "1i06A0vJjYYN",
        "outputId": "4e7f3550-a845-4bf3-8847-01837aacfc4a"
      },
      "outputs": [
        {
          "data": {
            "text/plain": [
              "['23-10-002', '23-10-2002', '23/10/2002', '23/10/02', '10/23/2002']"
            ]
          },
          "execution_count": 43,
          "metadata": {},
          "output_type": "execute_result"
        }
      ],
      "source": [
        "re.findall('\\d{2}[/-]\\d{2}[/-]\\d{2,4}', dateStr)"
      ]
    },
    {
      "cell_type": "markdown",
      "metadata": {
        "id": "DhMbEHN-jYYO"
      },
      "source": [
        "3. Encuentre todas las fechas escritas en formato donde el mes aparece no numérico"
      ]
    },
    {
      "cell_type": "markdown",
      "metadata": {
        "id": "Jww3FVqOjYYO"
      },
      "source": [
        "<b>regex:</b> <code>(?:\\d{2} )?(?:de )?(?:Ene|Feb|Mar|Abr|May|Jun|Jul|Ago|Sep|Oct|Nov|Dic)[a-z]* (?:de )?(?:\\d{2}, )?\\d{4}</code>"
      ]
    },
    {
      "cell_type": "code",
      "execution_count": 44,
      "metadata": {
        "colab": {
          "base_uri": "https://localhost:8080/"
        },
        "id": "u81x3aCXjYYP",
        "outputId": "4bc2d2e6-5ea0-4597-867e-a9d67ec78dd4"
      },
      "outputs": [
        {
          "data": {
            "text/plain": [
              "['Oct']"
            ]
          },
          "execution_count": 44,
          "metadata": {},
          "output_type": "execute_result"
        }
      ],
      "source": [
        "# agregamos alternancia\n",
        "re.findall('\\d{2} (Ene|Feb|Mar|Abr|May|Jun|Jul|Ago|Sep|Oct|Nov|Dic) \\d{4}', dateStr)"
      ]
    },
    {
      "cell_type": "code",
      "execution_count": 45,
      "metadata": {
        "colab": {
          "base_uri": "https://localhost:8080/"
        },
        "id": "0IHpFiHJjYYP",
        "outputId": "e1da2610-eef0-44f7-8a58-9960a92148ad"
      },
      "outputs": [
        {
          "data": {
            "text/plain": [
              "['23 Oct 2002']"
            ]
          },
          "execution_count": 45,
          "metadata": {},
          "output_type": "execute_result"
        }
      ],
      "source": [
        "# Se agrega ?: para que no capture el grupo\n",
        "re.findall('\\d{2} (?:Ene|Feb|Mar|Abr|May|Jun|Jul|Ago|Sep|Oct|Nov|Dic) \\d{4}', dateStr) "
      ]
    },
    {
      "cell_type": "markdown",
      "metadata": {
        "id": "7VXWt7t1jYYQ"
      },
      "source": [
        "<b>(?:...)</b> significa un conjunto de paréntesis de agrupación que no captura\n",
        "\n",
        "Normalmente, cuando escribes <b>(...)</b> en una regex, \"captura\" el material coincidente. Cuando usa la versión sin captura, no captura. Puede obtener las diversas partes que coinciden con la regex utilizando los métodos en el paquete <b>re</b> después de que la regex coincide con una cadena en particular"
      ]
    },
    {
      "cell_type": "code",
      "execution_count": 46,
      "metadata": {
        "colab": {
          "base_uri": "https://localhost:8080/"
        },
        "id": "FyD8M55FjYYQ",
        "outputId": "82561889-e7b4-473b-86d1-b5db22d90a53"
      },
      "outputs": [
        {
          "data": {
            "text/plain": [
              "['23 Oct 2002', '23 de Octubre de 2002']"
            ]
          },
          "execution_count": 46,
          "metadata": {},
          "output_type": "execute_result"
        }
      ],
      "source": [
        "# agregamos la palabra \"de opcional\"\n",
        "re.findall('\\d{2} (?:de )?(?:Ene|Feb|Mar|Abr|May|Jun|Jul|Ago|Sep|Oct|Nov|Dic)[a-z]* (?:de )?\\d{4}', dateStr) "
      ]
    },
    {
      "cell_type": "code",
      "execution_count": 47,
      "metadata": {
        "colab": {
          "base_uri": "https://localhost:8080/"
        },
        "id": "sE7lMvsmjYYR",
        "outputId": "f5385429-ff07-41f1-bcd8-baf47a2210ef"
      },
      "outputs": [
        {
          "data": {
            "text/plain": [
              "['23 Oct 2002', '23 de Octubre de 2002', 'Oct 23, 2002', 'Octubre 23, 2002']"
            ]
          },
          "execution_count": 47,
          "metadata": {},
          "output_type": "execute_result"
        }
      ],
      "source": [
        "#Cambiamos \\d{2}  por (?:\\d{2} )? para hacerlo opcional, y agregamos (?:\\d{2}, )? para capturar dato del dia al final\n",
        "re.findall(r'(?:\\d{2} )?(?:de )?(?:Ene|Feb|Mar|Abr|May|Jun|Jul|Ago|Sep|Oct|Nov|Dic)[a-z]* (?:de )?(?:\\d{2}, )?\\d{4}', dateStr)"
      ]
    },
    {
      "cell_type": "code",
      "execution_count": 48,
      "metadata": {
        "colab": {
          "base_uri": "https://localhost:8080/"
        },
        "id": "vAoYLbSfjYYS",
        "outputId": "1b7b4287-60aa-432a-a4a0-e1c08149198f"
      },
      "outputs": [
        {
          "data": {
            "text/plain": [
              "<re.Match object; span=(0, 21), match='13 de Febrero de 1982'>"
            ]
          },
          "execution_count": 48,
          "metadata": {},
          "output_type": "execute_result"
        }
      ],
      "source": [
        "# Validando una fecha\n",
        "p2_fecha = re.compile(r'(?:\\d{2} )?(?:de )?(?:Ene|Feb|Mar|Abr|May|Jun|Jul|Ago|Sep|Oct|Nov|Dic)[a-z]* (?:de )?(?:\\d{2}, )?\\d{4}')\n",
        "\n",
        "# validando 13 de Febrero de 1982\n",
        "p2_fecha.search(\"13 de Febrero de 1982\")"
      ]
    },
    {
      "cell_type": "code",
      "execution_count": 49,
      "metadata": {
        "colab": {
          "base_uri": "https://localhost:8080/"
        },
        "id": "TJmgAw0UjYYS",
        "outputId": "49cdd6cc-6f4c-4da5-cda4-a7bbfdacd00a"
      },
      "outputs": [
        {
          "data": {
            "text/plain": [
              "['23 Oct 2002', '23 de Octubre de 2002', 'Oct 23, 2002', 'Octubre 23, 2002']"
            ]
          },
          "execution_count": 49,
          "metadata": {},
          "output_type": "execute_result"
        }
      ],
      "source": [
        "p2_fecha.findall(dateStr)"
      ]
    },
    {
      "cell_type": "markdown",
      "metadata": {
        "id": "jOxRhDN6jYYT"
      },
      "source": [
        "4. ¿Qué sucede a las expresiones regulares del ejercicio 2 y 3, si sólo tenemos en el día un solo digito?"
      ]
    },
    {
      "cell_type": "code",
      "execution_count": 50,
      "metadata": {
        "colab": {
          "base_uri": "https://localhost:8080/"
        },
        "id": "mYxl_0MOjYYU",
        "outputId": "a658b567-1d13-47ab-ffc6-f2ba4e007e09"
      },
      "outputs": [
        {
          "name": "stdout",
          "output_type": "stream",
          "text": [
            "23-10-002\n",
            "23-10-2002\n",
            "23/10/2002\n",
            "23/10/02\n",
            "10/23/2002\n",
            "23 Oct 2002\n",
            "23 de Octubre de 2002\n",
            "Oct 23, 2002\n",
            "Octubre 23, 2002\n",
            "1-10-2001\n",
            "1 Oct 2001\n"
          ]
        }
      ],
      "source": [
        "dateStr = dateStr + \"\\n1-10-2001\\n1 Oct 2001\"\n",
        "print(dateStr)"
      ]
    },
    {
      "cell_type": "code",
      "execution_count": 51,
      "metadata": {
        "colab": {
          "base_uri": "https://localhost:8080/"
        },
        "id": "4xwEknEijYYU",
        "outputId": "500f22a7-2de1-431a-b9dd-5def084aa764"
      },
      "outputs": [
        {
          "data": {
            "text/plain": [
              "['23-10-002',\n",
              " '23-10-2002',\n",
              " '23/10/2002',\n",
              " '23/10/02',\n",
              " '10/23/2002',\n",
              " '1-10-2001']"
            ]
          },
          "execution_count": 51,
          "metadata": {},
          "output_type": "execute_result"
        }
      ],
      "source": [
        "# agregamos rango de 1 a 2 en el digito que representa el día\n",
        "re.findall('\\d{1,2}[/-]\\d{1,2}[/-]\\d{2,4}', dateStr)"
      ]
    },
    {
      "cell_type": "code",
      "execution_count": 52,
      "metadata": {
        "colab": {
          "base_uri": "https://localhost:8080/"
        },
        "id": "nF0tY0GIjYYV",
        "outputId": "9c078205-62a4-4aec-9a8e-2e040872eb12"
      },
      "outputs": [
        {
          "data": {
            "text/plain": [
              "['23 Oct 2002',\n",
              " '23 de Octubre de 2002',\n",
              " 'Oct 23, 2002',\n",
              " 'Octubre 23, 2002',\n",
              " '1 Oct 2001']"
            ]
          },
          "execution_count": 52,
          "metadata": {},
          "output_type": "execute_result"
        }
      ],
      "source": [
        "# agregamos rango de 1 a 2 en el digito que representa el día\n",
        "re.findall(r'(?:\\d{1,2} )?(?:de )?(?:Jan|Feb|Mar|Apr|May|Jun|Jul|Aug|Sep|Oct|Nov|Dec)[a-z]* (?:de )?(?:\\d{1,2}, )?\\d{4}', dateStr)"
      ]
    }
  ],
  "metadata": {
    "colab": {
      "provenance": []
    },
    "kernelspec": {
      "display_name": "Python 3",
      "language": "python",
      "name": "python3"
    },
    "language_info": {
      "codemirror_mode": {
        "name": "ipython",
        "version": 3
      },
      "file_extension": ".py",
      "mimetype": "text/x-python",
      "name": "python",
      "nbconvert_exporter": "python",
      "pygments_lexer": "ipython3",
      "version": "3.10.8"
    }
  },
  "nbformat": 4,
  "nbformat_minor": 0
}
