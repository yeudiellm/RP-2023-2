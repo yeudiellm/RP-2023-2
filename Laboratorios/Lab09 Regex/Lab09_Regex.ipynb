{
  "cells": [
    {
      "cell_type": "markdown",
      "metadata": {},
      "source": [
        "<a target=\"_blank\" href=\"https://colab.research.google.com/github/Detroxsys/RP-2023-2/blob/main/Laboratorios/Lab09%20Regex/Lab09_Regex.ipynb\">\n",
        "  <img src=\"https://colab.research.google.com/assets/colab-badge.svg\" alt=\"Open In Colab\"/>\n",
        "</a>"
      ]
    },
    {
      "cell_type": "markdown",
      "metadata": {
        "id": "4wbW_76eigPX"
      },
      "source": [
        "# Laboratorio 09: Expresiones Regulares (Regex)\n"
      ]
    },
    {
      "cell_type": "code",
      "execution_count": null,
      "metadata": {
        "id": "EsjudCo1j1YQ"
      },
      "outputs": [],
      "source": [
        "import re"
      ]
    },
    {
      "cell_type": "markdown",
      "metadata": {
        "id": "VVCjcaQnjOl1"
      },
      "source": [
        "\n",
        "**Ejercicio 1.** Escriba una expresión regular para que se extraigan las direcciones de correo electrónico completas"
      ]
    },
    {
      "cell_type": "code",
      "execution_count": null,
      "metadata": {
        "id": "lsqhyxZRjytB"
      },
      "outputs": [],
      "source": [
        "str='The advancements in biomarine studies franky@google.com with the investments necessary and Davos sinatra123@yahoo.com Then The New Yorker article on wind farms...'\n",
        "#Type your answer here.\n",
        "\n",
        "regex=\n",
        "emails=re.findall(regex, str)\n",
        "\n",
        "\n",
        "print(emails)"
      ]
    },
    {
      "cell_type": "markdown",
      "metadata": {
        "id": "iXK9M46bjunf"
      },
      "source": [
        "**Ejercicio 2.** Esta vez escriba una expresión regular para obtener solo la parte del correo electrónico antes del signo \"@\" e incluya el signo \"@\".\n",
        "es decir: solo mike@ parte de mike@protonmail.com"
      ]
    },
    {
      "cell_type": "code",
      "execution_count": null,
      "metadata": {
        "id": "5PTrf57LjyW5"
      },
      "outputs": [],
      "source": [
        "str='The advancements in biomarine studies franky@google.com, with the investments necessary and Davos sinatra123@yahoo.com Then The New Yorker article on wind farms...'\n",
        "#Type your answer here.\n",
        "\n",
        "regex=\n",
        "emails=re.findall(regex, str)\n",
        "\n",
        "\n",
        "print(emails)"
      ]
    },
    {
      "cell_type": "markdown",
      "metadata": {
        "id": "aszSbrur77pz"
      },
      "source": [
        "**Ejercicio 3.**  Encuentra las palabras con exactamente 8 letras usando expresiones regulares.\n"
      ]
    },
    {
      "cell_type": "code",
      "execution_count": null,
      "metadata": {
        "id": "OXXhvdSL8Hth"
      },
      "outputs": [],
      "source": [
        "str='''Au pays parfume que le soleil caresse,\n",
        "J'ai connu, sous un dais d'arbres tout empourpres\n",
        "Et de palmiers d'ou pleut sur les yeux la paresse,\n",
        "Une dame creole aux charmes ignores.'''\n",
        "\n",
        "#Type your answer here.\n",
        "\n",
        "regex=\n",
        "emails=re.findall(regex, str)\n",
        "\n",
        "\n",
        "print(emails)"
      ]
    },
    {
      "cell_type": "markdown",
      "metadata": {
        "id": "_f6MIMsw8KnI"
      },
      "source": [
        "**Ejercicio 4.** Encuentra los números que comienzan con 212."
      ]
    },
    {
      "cell_type": "code",
      "execution_count": null,
      "metadata": {
        "id": "qTGigj0l8QTo"
      },
      "outputs": [],
      "source": [
        "str='''Ancient Script 21299: The Takenouchi documents are the ancient historical records that have been secretly preserved and passed down from generation to generation by the Takenouchi family, the head of family being the chief priest of the Koso Kotai Jingu shrine. 212-111-5932 '''\n",
        "\n",
        "#Type your answer here.\n",
        "\n",
        "regex=\n",
        "data=re.findall(regex, str)\n",
        "\n",
        "\n",
        "print(data)"
      ]
    },
    {
      "cell_type": "markdown",
      "metadata": {
        "id": "Jh5ydFDU8YAE"
      },
      "source": [
        "**Ejercicio 5.** Se le dan los precios de las acciones para los teletipos financieros relacionados. (Símbolos que representan a las empresas en el mercado de valores)\n",
        "\n",
        "Encuentre una forma de extraer los tickers mencionados en el informe.\n",
        "es decir: TSLA, NFLX .."
      ]
    },
    {
      "cell_type": "code",
      "execution_count": null,
      "metadata": {
        "id": "BbZ7kts68hzf"
      },
      "outputs": [],
      "source": [
        "str=\"\"\"Some of the prices were as following TSLA:749.50, ORCL: 50.50, GE: 10.90, MSFT: 170.50, BIDU: 121.40. As the macroeconomic developments continue we will update the prices. \"\"\"\n",
        "\n",
        "#Type your answer here.\n",
        "\n",
        "regex=\n",
        "data=re.findall(regex, str)\n",
        "\n",
        "\n",
        "print(data)"
      ]
    },
    {
      "cell_type": "markdown",
      "metadata": {
        "id": "yb6G5KgK8mxH"
      },
      "source": [
        "**Ejercicio 6.**  Encuentra las etiquetas html que tienen más de 4 letras.\n",
        "\n",
        "Las etiquetas html se pueden encontrar dentro de <> caracteres y las etiquetas html de cierre se pueden encontrar en el mismo formato después del carácter /. </>"
      ]
    },
    {
      "cell_type": "code",
      "execution_count": null,
      "metadata": {
        "id": "QWFi-FwX8mih"
      },
      "outputs": [],
      "source": [
        "str=\"\"\"<div class=\"tut-list tut-list-new tut-row \"> \n",
        "<div class=\"tut-list-primary\"> <div class=\"tut-vote\"> \n",
        "<video>intro</video> \n",
        "<span class=\"count\">50</span> <span class=\"tut-upvotes-text hidden\">Upvotes</span> </a> </div>  \n",
        "<center>k=\"11\" rel=\"nofollow\"></center>\n",
        "<span class=\"tutorial-title-txt\">Automate the Boring Stuff with Python</span> \n",
        "<span class=\"tut-title-link\">  <span class=\"js-tutorial\" data-id=\"3529\" \n",
        "title=\"Automate the Boring Stuff with Python\" target=\"_blank\">(udemy.com)</span>  \n",
        "</span>  </a></div> <div class=\"action-footer\">\n",
        "<form class=\"save-tutorial-form\" method=\"post\" <button></button> <closeform></closeform></form>\"\"\"\n",
        "\n",
        "#Type your answer here.\n",
        "\n",
        "regex=\n",
        "data=re.findall(regex, str)\n",
        "\n",
        "\n",
        "print(data)"
      ]
    },
    {
      "cell_type": "markdown",
      "metadata": {
        "id": "vJbhjxrJ-pn3"
      },
      "source": [
        "**Ejercicio 7.** Escribe una expresión regular para validar una contraseña con las siguientes condiciones mediante expresiones regulares?\n",
        "* Condición 1: Debe tener al menos 8 caracteres\n",
        "* Condición 2: Debe tener al menos una letra mayúscula y una minúscula.\n",
        "* Condición 3: Debe tener al menos un dígito\n",
        "\n",
        "Escribe el código regex y un ejemplo. "
      ]
    },
    {
      "cell_type": "markdown",
      "metadata": {
        "id": "VLDee5nt-45j"
      },
      "source": [
        "**Ejercicio 8.** Cree una expresión regular que encuentre números de teléfono como 333-232-3403 o (333) 232 3403. \n",
        "\n",
        "Escribe el código regex y un ejemplo. "
      ]
    },
    {
      "cell_type": "markdown",
      "metadata": {
        "id": "p2A23ImX_xoa"
      },
      "source": [
        "**Ejercicio 9.** Cree una expresión regular que encuentre fechas en el formato MM/DD/AA o MM/DD/AAAA y devuelva solo la parte del año."
      ]
    },
    {
      "cell_type": "markdown",
      "metadata": {
        "id": "huAGCEvF_4TS"
      },
      "source": [
        "**Ejercicio 10.** Reemplace 'YOUR_REGEX' a continuación con una expresión regular que coincida con cualquier precio en forma de $ 3.45 o $ 23.32 o $ 400."
      ]
    },
    {
      "cell_type": "code",
      "execution_count": null,
      "metadata": {
        "id": "RBw8OmGtACvz"
      },
      "outputs": [],
      "source": [
        "def find_price(content):\n",
        "    return re.findall('YOUR_REGEX', content)"
      ]
    }
  ],
  "metadata": {
    "colab": {
      "provenance": []
    },
    "kernelspec": {
      "display_name": "Python 3",
      "name": "python3"
    },
    "language_info": {
      "name": "python"
    }
  },
  "nbformat": 4,
  "nbformat_minor": 0
}
