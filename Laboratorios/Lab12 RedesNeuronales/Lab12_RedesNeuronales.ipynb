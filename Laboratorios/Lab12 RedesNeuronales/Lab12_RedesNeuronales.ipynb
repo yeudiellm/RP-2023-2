{
  "cells": [
    {
      "attachments": {},
      "cell_type": "markdown",
      "metadata": {},
      "source": [
        "<a target=\"_blank\" href=\"https://colab.research.google.com/github/Detroxsys/RP-2023-2/blob/main/Laboratorios/Lab12%20RedesNeuronales/Lab12_RedesNeuronales.ipynb\">\n",
        "  <img src=\"https://colab.research.google.com/assets/colab-badge.svg\" alt=\"Open In Colab\"/>\n",
        "</a>"
      ]
    },
    {
      "attachments": {},
      "cell_type": "markdown",
      "metadata": {
        "id": "R9gkZgOEdAfU"
      },
      "source": [
        "# Laboratorio 12: Introducción a Redes Neuronales con TensorFlow\n",
        "\n",
        "Material relacionado: \n",
        "* [Curso de Aprendizaje Automático II, UDC](https://github.com/eirasf/GCED-AA2)\n",
        "* [ML-Course Neural Networks](https://ml-course.github.io/master/notebooks/08%20-%20Neural%20Networks.html)\n",
        "* [ML-Course Neural Networks, example](https://ml-course.github.io/master/labs/Lab%206%20-%20Tutorial)\n",
        "\n",
        "En este laboratorio, construiremos redes neuronales densas en el conjunto de datos MNIST.\n"
      ]
    },
    {
      "cell_type": "code",
      "execution_count": 7,
      "metadata": {
        "colab": {
          "base_uri": "https://localhost:8080/"
        },
        "id": "WYcFvDmwc9Gy",
        "outputId": "baaaa9c6-0d86-4c50-d39d-ad651aa845b7"
      },
      "outputs": [
        {
          "name": "stdout",
          "output_type": "stream",
          "text": [
            "Looking in indexes: https://pypi.org/simple, https://us-python.pkg.dev/colab-wheels/public/simple/\n",
            "Requirement already satisfied: openml in /usr/local/lib/python3.10/dist-packages (0.13.1)\n",
            "Requirement already satisfied: liac-arff>=2.4.0 in /usr/local/lib/python3.10/dist-packages (from openml) (2.5.0)\n",
            "Requirement already satisfied: xmltodict in /usr/local/lib/python3.10/dist-packages (from openml) (0.13.0)\n",
            "Requirement already satisfied: requests in /usr/local/lib/python3.10/dist-packages (from openml) (2.27.1)\n",
            "Requirement already satisfied: scikit-learn>=0.18 in /usr/local/lib/python3.10/dist-packages (from openml) (1.2.2)\n",
            "Requirement already satisfied: python-dateutil in /usr/local/lib/python3.10/dist-packages (from openml) (2.8.2)\n",
            "Requirement already satisfied: pandas>=1.0.0 in /usr/local/lib/python3.10/dist-packages (from openml) (1.5.3)\n",
            "Requirement already satisfied: scipy>=0.13.3 in /usr/local/lib/python3.10/dist-packages (from openml) (1.10.1)\n",
            "Requirement already satisfied: numpy>=1.6.2 in /usr/local/lib/python3.10/dist-packages (from openml) (1.22.4)\n",
            "Requirement already satisfied: minio in /usr/local/lib/python3.10/dist-packages (from openml) (7.1.15)\n",
            "Requirement already satisfied: pyarrow in /usr/local/lib/python3.10/dist-packages (from openml) (9.0.0)\n",
            "Requirement already satisfied: pytz>=2020.1 in /usr/local/lib/python3.10/dist-packages (from pandas>=1.0.0->openml) (2022.7.1)\n",
            "Requirement already satisfied: six>=1.5 in /usr/local/lib/python3.10/dist-packages (from python-dateutil->openml) (1.16.0)\n",
            "Requirement already satisfied: joblib>=1.1.1 in /usr/local/lib/python3.10/dist-packages (from scikit-learn>=0.18->openml) (1.2.0)\n",
            "Requirement already satisfied: threadpoolctl>=2.0.0 in /usr/local/lib/python3.10/dist-packages (from scikit-learn>=0.18->openml) (3.1.0)\n",
            "Requirement already satisfied: certifi in /usr/local/lib/python3.10/dist-packages (from minio->openml) (2022.12.7)\n",
            "Requirement already satisfied: urllib3 in /usr/local/lib/python3.10/dist-packages (from minio->openml) (1.26.15)\n",
            "Requirement already satisfied: charset-normalizer~=2.0.0 in /usr/local/lib/python3.10/dist-packages (from requests->openml) (2.0.12)\n",
            "Requirement already satisfied: idna<4,>=2.5 in /usr/local/lib/python3.10/dist-packages (from requests->openml) (3.4)\n"
          ]
        }
      ],
      "source": [
        "# Auto-setup when running on Google Colab\n",
        "if 'google.colab' in str(get_ipython()):\n",
        "    !pip install openml\n",
        "\n",
        "# General imports\n",
        "%matplotlib inline\n",
        "import numpy as np\n",
        "import pandas as pd\n",
        "import matplotlib.pyplot as plt\n",
        "import openml as oml\n",
        "import tensorflow.keras as tf"
      ]
    },
    {
      "attachments": {},
      "cell_type": "markdown",
      "metadata": {
        "id": "OfqOki1XeYKF"
      },
      "source": [
        "## Carga de datos y construcción de los conjuntos de training y test"
      ]
    },
    {
      "cell_type": "code",
      "execution_count": 8,
      "metadata": {
        "colab": {
          "base_uri": "https://localhost:8080/",
          "height": 190
        },
        "id": "xuHP1EX3ebjR",
        "outputId": "a35061d6-52dc-4e93-bad8-369b1ed8aa95"
      },
      "outputs": [
        {
          "data": {
            "image/png": "[encoded data removed]",
            "text/plain": [
              "<Figure size 1000x500 with 5 Axes>"
            ]
          },
          "metadata": {},
          "output_type": "display_data"
        }
      ],
      "source": [
        "mnist = oml.datasets.get_dataset(554)\n",
        "X, y, _, _ = mnist.get_data(target=mnist.default_target_attribute, dataset_format='array');\n",
        "X = X.reshape(70000, 28, 28)\n",
        "\n",
        "# Take some random examples\n",
        "from random import randint\n",
        "fig, axes = plt.subplots(1, 5,  figsize=(10, 5))\n",
        "for i in range(5):\n",
        "    n = randint(0,70000)\n",
        "    axes[i].imshow(X[n], cmap=plt.cm.gray_r)\n",
        "    axes[i].set_xticks([])\n",
        "    axes[i].set_yticks([])\n",
        "    axes[i].set_xlabel(\"{}\".format(y[n]))\n",
        "plt.show();"
      ]
    },
    {
      "cell_type": "code",
      "execution_count": 9,
      "metadata": {
        "id": "Rg50LN9oelcl"
      },
      "outputs": [],
      "source": [
        "# Para MNIST, existe un muestreo estratificado predefinido de partición en \n",
        "# training-test train-test de 60000-10000. \n",
        "from sklearn.model_selection import train_test_split\n",
        "X_train, X_test, y_train, y_test = train_test_split(X, y, train_size=60000, random_state=0)"
      ]
    },
    {
      "attachments": {},
      "cell_type": "markdown",
      "metadata": {
        "id": "9XppRjyte4bT"
      },
      "source": [
        "## Ejercicio 1: Preprocesamiento\n",
        "* Normalice los datos: asigne cada valor de característica desde su representación actual (un número entero entre 0 y 255) a un valor de coma flotante entre 0 y 1,0.\n",
        "\n",
        "* Almacene los valores de punto flotante en las variables  **x_train_normalized** y **x_test_normalized**.\n",
        "\n",
        "* Mapear la etiqueta de clase a un valor codificado con one-hot-encoding. Almacene en **y_train_encoded** y **y_test_encoded**."
      ]
    },
    {
      "attachments": {},
      "cell_type": "markdown",
      "metadata": {
        "id": "iWd7sGFrfON3"
      },
      "source": [
        "## Ejercicio 2: crear un modelo de red neuronal profunda\n",
        "\n",
        "Implemente una función **create_model** que defina la topografía de la red neuronal profunda, especificando lo siguiente:\n",
        "\n",
        "* El número de capas en la red neuronal profunda: use 2 capas densas por ahora.\n",
        "\n",
        "* El número de nodos en cada capa: estos son parámetros de su función.\n",
        "\n",
        "* Cualquier capa de regularización. Agregue al menos una capa de dropout.\n",
        "\n",
        "* El optimizador y la tasa de aprendizaje. Haga que la tasa de aprendizaje también sea un parámetro de su función.\n",
        "\n",
        "**Considerar:**\n",
        "\n",
        "* ¿Cuál debería ser la forma de la capa de entrada?\n",
        "\n",
        "* ¿Qué función de activación necesitará para la última capa, ya que este es un problema de clasificación de 10 clases?"
      ]
    },
    {
      "cell_type": "code",
      "execution_count": 10,
      "metadata": {
        "id": "Gc2u30HTgRpR"
      },
      "outputs": [],
      "source": [
        "### Crear un modelo de red neuronal\n",
        "def create_model(layer_1_units=32, layer_2_units=10, learning_rate=0.001, dropout_rate=0.3):\n",
        "    pass"
      ]
    },
    {
      "attachments": {},
      "cell_type": "markdown",
      "metadata": {
        "id": "JYqfk4stfwPv"
      },
      "source": [
        "## Ejercicio 3: Crear una función de entrenamiento\n",
        "\n",
        "Implemente una función **train_model** que entrene y evalúe un modelo determinado. Debe hacer una división de validación del conjunto de  train e informar la pérdida y precisión del train y la validación, y devolver el historial de entrenamiento."
      ]
    },
    {
      "cell_type": "code",
      "execution_count": 11,
      "metadata": {
        "id": "cSdQMFwKfTQc"
      },
      "outputs": [],
      "source": [
        "def train_model(model, X, y, validation_split=0.1, epochs=10, batch_size=None):\n",
        "    \"\"\"\n",
        "    model: Modelo a entrenar\n",
        "    X, y: Etiquetas de datos de entrenamiento.\n",
        "    validation_split: Porcentaje de datos para el conjunto de validación.\n",
        "    epochs: Número de épocas a entrenar. \n",
        "    batch_size: El tamaño de batch para SGD. \n",
        "    \"\"\"\n",
        "    pass"
      ]
    },
    {
      "attachments": {},
      "cell_type": "markdown",
      "metadata": {
        "id": "rC1305WtgaXQ"
      },
      "source": [
        "## Ejercicio 4: Evaluar el modelo\n",
        "Entrene el modelo con una tasa de aprendizaje de **0.003**, 50 épocas, un tamaño de lote de 4000 y un conjunto de validación que sea el 20 % de los datos de entrenamiento totales. Utilice la configuración predeterminada. Trace la curva de aprendizaje de la pérdida, la pérdida de validación, la precisión y la precisión de la validación. Finalmente, informe el rendimiento en el conjunto de prueba.\n",
        "\n",
        "Siéntase libre de usar la función de trazado a continuación, o implemente la devolución de llamada del tutorial para ver los resultados en tiempo real."
      ]
    },
    {
      "cell_type": "code",
      "execution_count": 12,
      "metadata": {
        "id": "QNnW2AyMgOSR"
      },
      "outputs": [],
      "source": [
        "# history: El historial del modelo entrenado.\n",
        "# list_of_metrics: Métricas para hacer la gráfica.\n",
        "def plot_curve(history, list_of_metrics):\n",
        "    \n",
        "    plt.figure()\n",
        "    plt.xlabel(\"Epoch\")\n",
        "    plt.ylabel(\"Value\")\n",
        "\n",
        "    epochs = history.epoch\n",
        "    hist = pd.DataFrame(history.history)\n",
        "\n",
        "    for m in list_of_metrics:\n",
        "        x = hist[m]\n",
        "        plt.plot(epochs[1:], x[1:], label=m, lw=2)\n",
        "\n",
        "    plt.legend()"
      ]
    },
    {
      "attachments": {},
      "cell_type": "markdown",
      "metadata": {
        "id": "XVFADiwmg4X9"
      },
      "source": [
        "## Ejercicio 5: Optimizar el modelo\n",
        "Intente optimizar el modelo, ya sea manualmente o con un método de ajuste. Al menos optimizar lo siguiente:\n",
        "\n",
        "* el número de capas ocultas\n",
        "\n",
        "* El número de nodos en cada capa\n",
        "\n",
        "* La cantidad de capas de abandono y la tasa de abandono\n",
        "\n",
        "**Debe de alcanzar al menos un 96 % de precisión con respecto al conjunto de prueba.**"
      ]
    },
    {
      "cell_type": "code",
      "execution_count": 12,
      "metadata": {
        "id": "OgTt_L9ghHHQ"
      },
      "outputs": [],
      "source": []
    }
  ],
  "metadata": {
    "colab": {
      "provenance": []
    },
    "kernelspec": {
      "display_name": "Python 3",
      "name": "python3"
    },
    "language_info": {
      "name": "python"
    }
  },
  "nbformat": 4,
  "nbformat_minor": 0
}
