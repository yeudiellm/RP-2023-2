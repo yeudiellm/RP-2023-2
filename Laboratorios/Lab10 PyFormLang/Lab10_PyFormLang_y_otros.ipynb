{
  "cells": [
    {
      "cell_type": "markdown",
      "metadata": {},
      "source": [
        "<a target=\"_blank\" href=\"https://colab.research.google.com/github/Detroxsys/RP-2023-2/blob/main/Laboratorios/Lab10%20PyFormLang/Lab10_PyFormLang_y_otros.ipynb\">\n",
        "  <img src=\"https://colab.research.google.com/assets/colab-badge.svg\" alt=\"Open In Colab\"/>\n",
        "</a>"
      ]
    },
    {
      "cell_type": "markdown",
      "metadata": {
        "id": "4wbW_76eigPX"
      },
      "source": [
        "# Laboratorio 10: Patrones Sintácticos en Python\n",
        "\n",
        "PyFormLang es una biblioteca de Python que proporciona herramientas para trabajar con gramáticas formales, como gramáticas de contexto libre y autómatas. Ofrece una variedad de algoritmos y estructuras de datos para trabajar con gramáticas y analizar cadenas de símbolos en busca de coincidencias con la gramática definida. PyFormLang se puede utilizar para crear analizadores sintácticos, analizadores léxicos y otros programas que trabajan con gramáticas y lenguajes formales.\n",
        "\n",
        "**Ventajas de PyFormLang:**\n",
        "\n",
        "* PyFormLang es fácil de usar y proporciona una API bien documentada.\n",
        "* PyFormLang ofrece una variedad de algoritmos y estructuras de datos para trabajar con gramáticas y autómatas.\n",
        "* PyFormLang admite la definición y análisis de diferentes tipos de gramáticas, incluidas las gramáticas de contexto libre y las gramáticas regulares.\n",
        "* PyFormLang permite la generación de analizadores sintácticos para verificar la validez de las cadenas de símbolos según la gramática definida.\n",
        "* PyFormLang es una biblioteca de Python, lo que significa que es fácil de integrar con otras bibliotecas y herramientas de Python.\n",
        "\n",
        "**Desventajas de PyFormLang:**\n",
        "\n",
        "* PyFormLang puede ser lento para analizar cadenas de símbolos muy largas o gramáticas muy complejas.\n",
        "* PyFormLang no ofrece soporte para todas las funcionalidades avanzadas de algunas gramáticas formales, como la definición de gramáticas dependientes del contexto.\n",
        "* PyFormLang no es tan popular como algunas otras bibliotecas de Python para trabajar con gramáticas formales, lo que puede dificultar encontrar ayuda y recursos en línea.\n",
        "\n",
        "**Alternativas:**\n",
        "1. **PLY (Python Lex-Yacc):** es una biblioteca de Python para escribir analizadores sintácticos y léxicos. Ofrece una sintaxis fácil de usar para definir gramáticas de lenguaje y genera analizadores automáticos a partir de ellas. [Tutorial de Introducción](https://www.dabeaz.com/ply/ply.html#ply_nn21b)\n",
        "2. **NLTK (Natural Language Toolkit):** es una biblioteca de Python ampliamente utilizada para procesamiento del lenguaje natural, pero también puede utilizarse para trabajar con gramáticas y autómatas. Ofrece una amplia gama de herramientas para analizar y generar texto, incluyendo gramáticas probabilísticas y modelos de lenguaje.\n",
        "\n",
        "\n"
      ]
    },
    {
      "cell_type": "code",
      "execution_count": 5,
      "metadata": {
        "colab": {
          "base_uri": "https://localhost:8080/"
        },
        "id": "BG1DH0pOgAXB",
        "outputId": "3d68778a-1b18-435f-abe1-848d32fdfb5d"
      },
      "outputs": [
        {
          "name": "stdout",
          "output_type": "stream",
          "text": [
            "Looking in indexes: https://pypi.org/simple, https://us-python.pkg.dev/colab-wheels/public/simple/\n",
            "Requirement already satisfied: pyformlang in /usr/local/lib/python3.10/dist-packages (1.0.2)\n",
            "Requirement already satisfied: networkx in /usr/local/lib/python3.10/dist-packages (from pyformlang) (3.1)\n",
            "Requirement already satisfied: numpy in /usr/local/lib/python3.10/dist-packages (from pyformlang) (1.22.4)\n",
            "Requirement already satisfied: pydot in /usr/local/lib/python3.10/dist-packages (from pyformlang) (1.4.2)\n",
            "Requirement already satisfied: pyparsing>=2.1.4 in /usr/local/lib/python3.10/dist-packages (from pydot->pyformlang) (3.0.9)\n"
          ]
        }
      ],
      "source": [
        "!pip install pyformlang"
      ]
    },
    {
      "cell_type": "markdown",
      "metadata": {
        "id": "DVYx_PPiiQd3"
      },
      "source": [
        "## Ejercicio 1. (6 puntos) Replica los ejemplos de *Pyformlang: an educational library for formal language manipulation* (incluyendo las gráficas). \n",
        "\n",
        "Da una explicación detallada de los ejercicios. \n"
      ]
    },
    {
      "cell_type": "code",
      "execution_count": 6,
      "metadata": {
        "colab": {
          "base_uri": "https://localhost:8080/"
        },
        "id": "TuMBFMtSfkyH",
        "outputId": "72d5516f-23cd-4901-9838-1f8faa65a5b3"
      },
      "outputs": [
        {
          "name": "stdout",
          "output_type": "stream",
          "text": [
            "Operator(Concatenation)\n",
            " Operator(Union)\n",
            "  Symbol(abc)\n",
            "  Symbol(d)\n",
            " Operator(Concatenation)\n",
            "  Symbol(a)\n",
            "  Symbol(b)\n",
            "\n"
          ]
        },
        {
          "data": {
            "text/plain": [
              "False"
            ]
          },
          "execution_count": 6,
          "metadata": {},
          "output_type": "execute_result"
        }
      ],
      "source": [
        "from pyformlang . regular_expression import Regex\n",
        "\n",
        "regex = Regex (\" abc | d \")\n",
        "# Check if the symbol \" abc \" is accepted\n",
        "regex . accepts ([\" abc \"]) # True\n",
        "# Check if the word composed of the symbols\n",
        "# \" a \" , \" b \" and \" c \" is accepted\n",
        "regex . accepts ([\" a \", \" b \", \" c \"]) # False\n",
        "# Check if the symbol \" d \" is accepted\n",
        "regex . accepts ([\" d \"]) # True\n",
        "\n",
        "regex1 = Regex (\" a b \")\n",
        "regex_concat = regex . concatenate ( regex1 )\n",
        "regex_concat . accepts ([\" d \", \" a \", \" b \"]) # True\n",
        "\n",
        "print ( regex_concat . get_tree_str () )\n",
        "# Operator ( Concatenation )\n",
        "# Operator ( Union )\n",
        "# Symbol ( abc )\n",
        "# Symbol ( d )\n",
        "# Operator ( Concatenation )\n",
        "# Symbol ( a )\n",
        "# Symbol ( b )\n",
        "\n",
        "# Give the equivalent finite - state automaton\n",
        "equivalent_enfa = regex_concat . to_epsilon_nfa ()\n",
        "equivalent_enfa . accepts ([\" d \", \" a \", \" b \"]) # True\n",
        "\n",
        "# Python regular expressions wrapper\n",
        "from pyformlang . regular_expression import PythonRegex\n",
        "p_regex = PythonRegex (\" a +[ cd ] \")\n",
        "p_regex . accepts ([\" a \", \" a \", \" d \"]) # True\n",
        "# As the alphabet is composed of single characters , one\n",
        "#could also write\n",
        "p_regex . accepts (\" aad \") # True\n",
        "p_regex . accepts ([\" d \"]) # False\n"
      ]
    },
    {
      "cell_type": "markdown",
      "metadata": {
        "id": "-6-c14-4ih8J"
      },
      "source": [
        "## Ejercicio 2. (4 puntos) De todos los ejemplos que has visto en clase (clases 19,20,21, 22). Implementa 4 ejemplos o ejercicios en python con ayuda de PyFormLang.  (Específica cuales son). "
      ]
    }
  ],
  "metadata": {
    "colab": {
      "provenance": []
    },
    "kernelspec": {
      "display_name": "Python 3",
      "name": "python3"
    },
    "language_info": {
      "name": "python"
    }
  },
  "nbformat": 4,
  "nbformat_minor": 0
}
